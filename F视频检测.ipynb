{
 "cells": [
  {
   "cell_type": "code",
   "execution_count": 1,
   "id": "08480f29-d666-4353-b3cd-37ecb8ba328f",
   "metadata": {
    "ExecuteTime": {
     "end_time": "2022-05-06T15:36:23.290763Z",
     "start_time": "2022-05-06T15:36:22.657926Z"
    },
    "execution": {
     "iopub.execute_input": "2022-05-06T14:22:56.791017Z",
     "iopub.status.busy": "2022-05-06T14:22:56.791017Z",
     "iopub.status.idle": "2022-05-06T14:22:57.256456Z",
     "shell.execute_reply": "2022-05-06T14:22:57.255461Z",
     "shell.execute_reply.started": "2022-05-06T14:22:56.791017Z"
    },
    "tags": []
   },
   "outputs": [],
   "source": [
    "# opencv-python\n",
    "import cv2\n",
    "# mediapipe人工智能工具包\n",
    "import mediapipe as mp\n",
    "# 进度条库\n",
    "from tqdm import tqdm\n",
    "# 时间库\n",
    "import time\n",
    "# 导入python绘图matplotlib\n",
    "import matplotlib.pyplot as plt\n",
    "# 使用ipython的魔法方法，将绘制出的图像直接嵌入在notebook单元格中\n",
    "%matplotlib inline\n",
    "import numpy as np"
   ]
  },
  {
   "cell_type": "code",
   "execution_count": 2,
   "id": "fe9b5f37-92fa-4632-8f92-6692be925061",
   "metadata": {
    "ExecuteTime": {
     "end_time": "2022-05-06T15:36:23.322770Z",
     "start_time": "2022-05-06T15:36:23.292766Z"
    },
    "execution": {
     "iopub.execute_input": "2022-05-06T14:22:57.257456Z",
     "iopub.status.busy": "2022-05-06T14:22:57.257456Z",
     "iopub.status.idle": "2022-05-06T14:22:57.288459Z",
     "shell.execute_reply": "2022-05-06T14:22:57.287463Z",
     "shell.execute_reply.started": "2022-05-06T14:22:57.257456Z"
    },
    "tags": []
   },
   "outputs": [],
   "source": [
    "# 导入solution\n",
    "mp_pose = mp.solutions.pose\n",
    "# #导入绘图函数\n",
    "mp_drawing = mp.solutions.drawing_utils\n",
    "\n",
    "# 导入模型\n",
    "pose = mp_pose.Pose(static_image_mode=False,\n",
    "                    # 是静态图片还是连续视频帧\n",
    "                    model_complexity=2,\n",
    "                    # 选择人体姿态关键点检测模型，0性能差但快，2性能好但慢，1介于两者之间\n",
    "                    smooth_landmarks=True,\n",
    "                    # 是否平滑关键点\n",
    "                    enable_segmentation=False,\n",
    "                    # 是否人体抠图\n",
    "                    min_detection_confidence=0.5,  # 置信度阈值\n",
    "                    min_tracking_confidence=0.5)  # 追踪阈值"
   ]
  },
  {
   "cell_type": "code",
   "execution_count": 3,
   "id": "95efa473-9d31-4174-8eca-a86b21b6bc37",
   "metadata": {
    "ExecuteTime": {
     "end_time": "2022-05-06T15:36:23.354763Z",
     "start_time": "2022-05-06T15:36:23.324765Z"
    },
    "execution": {
     "iopub.execute_input": "2022-05-06T14:22:57.290460Z",
     "iopub.status.busy": "2022-05-06T14:22:57.290460Z",
     "iopub.status.idle": "2022-05-06T14:22:57.320456Z",
     "shell.execute_reply": "2022-05-06T14:22:57.319456Z",
     "shell.execute_reply.started": "2022-05-06T14:22:57.290460Z"
    },
    "tags": []
   },
   "outputs": [],
   "source": [
    "def process_frame(img):\n",
    "    # 记录该帧开始处理的时间\n",
    "    start_time = time.time()\n",
    "    # 获取图像宽高\n",
    "    h, w = img.shape[0], img.shape[1]\n",
    "\n",
    "    # BGR转RGB\n",
    "    img_RGB = cv2.cvtColor(img, cv2.COLOR_BGR2RGB)\n",
    "#     print(\"True0\")\n",
    "    # 将RGB图像输入模型，获取预测结 果\n",
    "    results = pose.process(img_RGB)\n",
    "    print(\"True\")\n",
    "    if results.pose_landmarks:  # 若检测出人体关键点\n",
    "        print(\"True1\")\n",
    "        # 可视化关键点及骨架连线\n",
    "        mp_drawing.draw_landmarks(\n",
    "            img, results.pose_landmarks, mp_pose.POSE_CONNECTIONS)\n",
    "\n",
    "        for i in range(33):  # 遍历33个关键点\n",
    "            # 获取该关键点的三维坐标\n",
    "            print(\"True2\")\n",
    "            cx = int(results.pose_landmarks.landmark[i].x*w)\n",
    "            cy = int(results.pose_landmarks.landmark[i].y*h)\n",
    "            cz = results.pose_landmarks.landmark[i].z\n",
    "            \n",
    "            radius = 5\n",
    "\n",
    "            if i == 0:  # 鼻尖\n",
    "                img = cv2.circle(img, (cx, cy), radius, (0, 0, 255), -1)\n",
    "            elif i in [11, 12]:  # 肩膀\n",
    "                img = cv2.circle(img, (cx, cy), radius, (223, 155, 6), -1)\n",
    "            elif i in [23, 24]:  # 髋关节\n",
    "                img = cv2.circle(img, (cx, cy), radius, (1, 240, 255), -1)\n",
    "            elif i in [13, 14]:  # 胳膊肘\n",
    "                img = cv2.circle(img, (cx, cy), radius, (140, 47, 240), -1)\n",
    "            elif i in [25, 26]:  # 膝盖\n",
    "                img = cv2 .circle(img, (cx, cy), radius, (0, 0, 255), -1)\n",
    "            elif i in [15, 16, 27, 28]:  # 手腕和脚腕\n",
    "                img = cv2.circle(img, (cx, cy), radius, (223, 155, 60), -1)\n",
    "            elif i in [17, 19, 21]:  # 左手\n",
    "                img = cv2.circle(img, (cx, cy), radius, (94, 218, 121), -1)\n",
    "            elif i in [18, 20, 22]:  # 右手\n",
    "                img = cv2.circle(img, (cx, cy), radius, (16, 144, 247), -1)\n",
    "            elif i in [27, 29, 31]:  # 左脚\n",
    "                img = cv2.circle(img, (cx, cy), radius, (29, 123, 243), -1)\n",
    "            elif i in [28, 30, 32]:  # 右脚\n",
    "                img = cv2.circle(img, (cx, cy), radius, (193, 182, 255), -1)\n",
    "            elif i in [9, 10]:  # 嘴\n",
    "                img = cv2.circle(img, (cx, cy), radius, (205, 235, 255), -1)\n",
    "            elif i in [1, 2, 3, 4, 5, 6, 7, 8]:  # 眼及脸颊\n",
    "                img = cv2.circle(img, (cx, cy), radius, (94, 218, 121), -1)\n",
    "            else:  # 其它关键点\n",
    "                img = cv2.circle(img, (cx, cy), radius, (0, 255, 0), -1)\n",
    "            \n",
    "    else:\n",
    "        scaler = 1\n",
    "        failure_str = 'No Person'\n",
    "        img = cv2.putText(img, failure_str, (25*scaler, 100 * scaler),\n",
    "                          cv2.FONT_HERSHEY_SIMPLEX, 1.25 * scaler, (255, 0, 255))\n",
    "        print( '从图像中未检测出人体关键点，报错。')\n",
    "        \n",
    "    # 记录该帧处理完毕的时间\n",
    "    end_time = time.time()\n",
    "    # 计算每秒处理图像帧数FPS\n",
    "    FPS = 1/(end_time - start_time)\n",
    "    \n",
    "    scaler = 1\n",
    "    # 在图像上写FPS数值， 参数依次为:图片，添加的文字，左上角坐标，字体，字体大小，颜色，字体粗细\n",
    "    img = cv2.putText(img, 'FPS:'+str(int(FPS)), (25 * scaler, 50 * scaler),\n",
    "                      cv2.FONT_HERSHEY_SIMPLEX, 1.25 * scaler, (0, 255, 0))\n",
    "    return img"
   ]
  },
  {
   "cell_type": "markdown",
   "id": "78c1177d-082a-4e6e-8873-a34212346094",
   "metadata": {},
   "source": [
    "### 视频逐帧处理(模板)"
   ]
  },
  {
   "cell_type": "code",
   "execution_count": 4,
   "id": "c437fe0d-69b0-446d-aa3a-1563d1903ba7",
   "metadata": {
    "ExecuteTime": {
     "end_time": "2022-05-06T15:36:23.370785Z",
     "start_time": "2022-05-06T15:36:23.356768Z"
    },
    "execution": {
     "iopub.execute_input": "2022-05-06T14:22:57.321457Z",
     "iopub.status.busy": "2022-05-06T14:22:57.321457Z",
     "iopub.status.idle": "2022-05-06T14:22:57.335469Z",
     "shell.execute_reply": "2022-05-06T14:22:57.334456Z",
     "shell.execute_reply.started": "2022-05-06T14:22:57.321457Z"
    },
    "tags": []
   },
   "outputs": [],
   "source": [
    "def generate_video(input_path=\"E:/opencv/opencv-Advanced courses/Chapter 2 – Pose Estimation/1.mp4\"): \n",
    "    filehead = input_path.split('/')[-1]\n",
    "    output_path = \"out-\" + filehead\n",
    "    \n",
    "    print( '视频开始处理' ,input_path)\n",
    "    \n",
    "    #获取视频总帧数\n",
    "    cap=cv2.VideoCapture(input_path)\n",
    "    frame_count = 0\n",
    "    \n",
    "    while (cap.isOpened()):\n",
    "        success, frame = cap. read()\n",
    "        frame_count += 1\n",
    "        if not success:\n",
    "            break\n",
    "    cap.release()\n",
    "    \n",
    "    print(\"视频总帧数\", frame_count)\n",
    "    \n",
    "    # cv2.namedWindow( 'Crack Detection and Measurement Video Processing')\n",
    "    cap = cv2.VideoCapture(input_path)\n",
    "    frame_size = (cap.get(cv2.CAP_PROP_FRAME_WIDTH),cap.get(cv2.CAP_PROP_FRAME_HEIGHT))\n",
    "    \n",
    "    # fourcc = int(cap. get (Cv2.CAP_ PROP_ FOURCC))\n",
    "    # fourcc = cv2. videoWriter fourcc(* 'XVID')\n",
    "    fourcc = cv2.VideoWriter_fourcc(* 'mp4v')\n",
    "    fps = cap.get(cv2.CAP_PROP_FPS)\n",
    "    \n",
    "    out = cv2.VideoWriter(output_path, fourcc,fps, (int(frame_size[0]), int(frame_size[1])))\n",
    "    \n",
    "    #进度条绑定视频总帧数\n",
    "    with tqdm(total=frame_count-1) as pbar:\n",
    "        try:\n",
    "            while(cap.isOpened()):\n",
    "                success, frame = cap.read()\n",
    "#                 print(success)  # True\n",
    "                if not success:\n",
    "                    break\n",
    "                    \n",
    "                #处理帧\n",
    "                # frame path = './temp_ frame. png'\n",
    "                # cv2. imwrite(frame_ path, frame)\n",
    "#                 try:\n",
    "                # print(\"cap.isOpened()\")  # True\n",
    "                frame = process_frame(frame)\n",
    "                print(\"True\")\n",
    "#                 except:\n",
    "#                     print('error')\n",
    "#                     pass\n",
    "                if success == True: \n",
    "                    # cv2. imshow( 'Video Processing', frame)\n",
    "                    out.write(frame)\n",
    "                    \n",
    "                    #进度条更新-帧\n",
    "                    pbar.update(1)\n",
    "                    \n",
    "                # if cv2.waitKey(1) & 0xFF == ord('q'):\n",
    "                    # break\n",
    "                \n",
    "        except:\n",
    "            print('中途中断')\n",
    "            pass\n",
    "        \n",
    "    cv2.destroyAllWindows()\n",
    "    out.release()\n",
    "    cap.release()\n",
    "    print( '视频已保存', output_path)"
   ]
  },
  {
   "cell_type": "code",
   "execution_count": null,
   "id": "60660ec0-e464-49d3-a0c4-de4300f07adb",
   "metadata": {
    "ExecuteTime": {
     "start_time": "2022-05-06T15:36:22.659Z"
    },
    "execution": {
     "iopub.execute_input": "2022-05-06T14:22:57.337460Z",
     "iopub.status.busy": "2022-05-06T14:22:57.337460Z"
    },
    "tags": []
   },
   "outputs": [
    {
     "name": "stdout",
     "output_type": "stream",
     "text": [
      "视频开始处理 E:/opencv/opencv-Advanced courses/Chapter 2 – Pose Estimation/1.mp4\n"
     ]
    }
   ],
   "source": [
    "generate_video(input_path=\"E:/opencv/opencv-Advanced courses/Chapter 2 – Pose Estimation/1.mp4\")"
   ]
  },
  {
   "cell_type": "code",
   "execution_count": null,
   "id": "c2ac5b58-2319-47e0-9bac-71589003ecee",
   "metadata": {},
   "outputs": [],
   "source": []
  }
 ],
 "metadata": {
  "kernelspec": {
   "display_name": "Python 3",
   "language": "python",
   "name": "python3"
  },
  "language_info": {
   "codemirror_mode": {
    "name": "ipython",
    "version": 3
   },
   "file_extension": ".py",
   "mimetype": "text/x-python",
   "name": "python",
   "nbconvert_exporter": "python",
   "pygments_lexer": "ipython3",
   "version": "3.8.12"
  },
  "widgets": {
   "application/vnd.jupyter.widget-state+json": {
    "state": {},
    "version_major": 2,
    "version_minor": 0
   }
  }
 },
 "nbformat": 4,
 "nbformat_minor": 5
}
