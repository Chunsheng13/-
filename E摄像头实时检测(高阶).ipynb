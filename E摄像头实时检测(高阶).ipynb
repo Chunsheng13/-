{
 "cells": [
  {
   "cell_type": "code",
   "execution_count": 1,
   "id": "1fdd3537-dad3-40fe-b054-adf13f9dd6e1",
   "metadata": {
    "ExecuteTime": {
     "end_time": "2022-05-06T15:37:49.452513Z",
     "start_time": "2022-05-06T15:37:49.006429Z"
    },
    "execution": {
     "iopub.execute_input": "2022-05-06T14:15:34.350699Z",
     "iopub.status.busy": "2022-05-06T14:15:34.349695Z",
     "iopub.status.idle": "2022-05-06T14:15:34.812576Z",
     "shell.execute_reply": "2022-05-06T14:15:34.812576Z",
     "shell.execute_reply.started": "2022-05-06T14:15:34.350699Z"
    }
   },
   "outputs": [],
   "source": [
    "# opencv-python\n",
    "import cv2\n",
    "# mediapipe人工智能工具包\n",
    "import mediapipe as mp\n",
    "# 进度条库\n",
    "from tqdm import tqdm\n",
    "# 时间库\n",
    "import time\n",
    "# 导入python绘图matplotlib\n",
    "import matplotlib.pyplot as plt\n",
    "# 使用ipython的魔法方法，将绘制出的图像直接嵌入在notebook单元格中\n",
    "%matplotlib inline\n",
    "import numpy as np"
   ]
  },
  {
   "cell_type": "code",
   "execution_count": 2,
   "id": "4329a1ee-3544-4855-afe9-15badd8f1d72",
   "metadata": {
    "ExecuteTime": {
     "end_time": "2022-05-06T15:37:49.484351Z",
     "start_time": "2022-05-06T15:37:49.454351Z"
    },
    "execution": {
     "iopub.execute_input": "2022-05-06T14:15:34.812576Z",
     "iopub.status.busy": "2022-05-06T14:15:34.812576Z",
     "iopub.status.idle": "2022-05-06T14:15:34.844669Z",
     "shell.execute_reply": "2022-05-06T14:15:34.843673Z",
     "shell.execute_reply.started": "2022-05-06T14:15:34.812576Z"
    }
   },
   "outputs": [],
   "source": [
    "# 导入solution\n",
    "mp_pose = mp.solutions.pose\n",
    "# #导入绘图函数\n",
    "mp_drawing = mp.solutions.drawing_utils\n",
    "\n",
    "# 导入模型\n",
    "pose = mp_pose.Pose(static_image_mode=False,\n",
    "                    # 是静态图片还是连续视频帧\n",
    "                    model_complexity=1,\n",
    "                    # 选择人体姿态关键点检测模型，0性能差但快，2性能好但慢，1介于两者之间\n",
    "                    smooth_landmarks=True,\n",
    "                    # 是否平滑关键点\n",
    "                    enable_segmentation=True,\n",
    "                    # 是否人体抠图\n",
    "                    min_detection_confidence=0.5,  # 置信度阈值\n",
    "                    min_tracking_confidence=0.5)  # 追踪阈值"
   ]
  },
  {
   "cell_type": "markdown",
   "id": "a722d986-a3f3-41be-a42f-014b7f3c524f",
   "metadata": {},
   "source": [
    "### 处理单帧的函数"
   ]
  },
  {
   "cell_type": "code",
   "execution_count": 3,
   "id": "28e53334-84c7-4a8f-933f-f87bb00cb31e",
   "metadata": {
    "ExecuteTime": {
     "end_time": "2022-05-06T15:37:49.515392Z",
     "start_time": "2022-05-06T15:37:49.485354Z"
    },
    "execution": {
     "iopub.execute_input": "2022-05-06T14:15:34.846671Z",
     "iopub.status.busy": "2022-05-06T14:15:34.846671Z",
     "iopub.status.idle": "2022-05-06T14:15:34.875671Z",
     "shell.execute_reply": "2022-05-06T14:15:34.874700Z",
     "shell.execute_reply.started": "2022-05-06T14:15:34.846671Z"
    },
    "tags": []
   },
   "outputs": [],
   "source": [
    "def process_frame(img):\n",
    "    # 记录该帧开始处理的时间\n",
    "    start_time = time.time()\n",
    "    # 获取图像宽高\n",
    "    h, w = img.shape[0], img.shape[1]\n",
    "    # BGR转RGB\n",
    "    img_RGB = cv2.cvtColor(img, cv2.COLOR_BGR2RGB)\n",
    "    # 将RGB图像输入模型，获取预测结果\n",
    "    results = pose.process(img_RGB)\n",
    "    if results.pose_landmarks:  # 若检测出人体关键点\n",
    "\n",
    "        # 可视化关键点及骨架连线\n",
    "        mp_drawing.draw_landmarks(img, results.pose_landmarks, mp_pose.POSE_CONNECTIONS)\n",
    "        \n",
    "        for i in range(33):  # 遍历33个关键点\n",
    "            # 获取该关键点的三维坐标\n",
    "            cx = int(results.pose_landmarks.landmark[i].x*w)\n",
    "            cy = int(results.pose_landmarks.landmark[i].y * h)\n",
    "            cz = results.pose_landmarks.landmark[i].z\n",
    "            radius = 5\n",
    "\n",
    "            if i == 0:  # 鼻尖\n",
    "                img = cv2.circle(img, (cx, cy), radius, (0, 0, 255), -1)\n",
    "            elif i in [11, 12]:  # 肩膀\n",
    "                img = cv2.circle(img, (cx, cy), radius, (223, 155, 6), -1)\n",
    "            elif i in [23, 24]:  # 髋关节\n",
    "                img = cv2.circle(img, (cx, cy), radius, (1, 240, 255), -1)\n",
    "            elif i in [13, 14]:  # 胳膊肘\n",
    "                img = cv2.circle(img, (cx, cy), radius, (140, 47, 240), -1)\n",
    "            elif i in [25, 26]:  # 膝盖\n",
    "                img = cv2 .circle(img, (cx, cy), radius, (0, 0, 255), -1)\n",
    "            elif i in [15, 16, 27, 28]:  # 手腕和脚腕\n",
    "                img = cv2.circle(img, (cx, cy), radius, (223, 155, 60), -1)\n",
    "            elif i in [17, 19, 21]:  # 左手\n",
    "                img = cv2.circle(img, (cx, cy), radius, (94, 218, 121), -1)\n",
    "            elif i in [18, 20, 22]:  # 右手\n",
    "                img = cv2.circle(img, (cx, cy), radius, (16, 144, 247), -1)\n",
    "            elif i in [27, 29, 31]:  # 左脚\n",
    "                img = cv2.circle(img, (cx, cy), radius, (29, 123, 243), -1)\n",
    "            elif i in [28, 30, 32]:  # 右脚\n",
    "                img = cv2.circle(img, (cx, cy), radius, (193, 182, 255), -1)\n",
    "            elif i in [9, 10]:  # 嘴\n",
    "                img = cv2.circle(img, (cx, cy), radius, (205, 235, 255), -1)\n",
    "            elif i in [1, 2, 3, 4, 5, 6, 7, 8]:  # 眼及脸颊\n",
    "                img = cv2.circle(img, (cx, cy), radius, (94, 218, 121), -1)\n",
    "            else:  # 其它关键点\n",
    "                img = cv2.circle(img, (cx, cy), radius, (0, 255, 0), -1)\n",
    "    else:\n",
    "        scaler = 1\n",
    "        failure_str = 'No Person'\n",
    "        img = cv2.putText(img, failure_str, (25*scaler, 100 * scaler), cv2.FONT_HERSHEY_SIMPLEX, 1.25 * scaler, (255,0,255))\n",
    "        # print( '从图像中未检测出人体关键点，报错。') \n",
    "    #记录该帧处理完毕的时间\n",
    "    end_time = time.time()\n",
    "    #计算每秒处理图像帧数FPS\n",
    "    FPS = 1/(end_time - start_time)\n",
    "    scaler = 1\n",
    "    #在图像上写FPS数值， 参数依次为:图片，添加的文字，左上角坐标，字体，字体大小，颜色，字体粗细\n",
    "    img = cv2.putText(img, 'FPS:'+str(int(FPS)),(25 * scaler, 50 * scaler), cv2.FONT_HERSHEY_SIMPLEX,1.25 * scaler,(0, 255, 0))\n",
    "    return img"
   ]
  },
  {
   "cell_type": "markdown",
   "id": "22fa8a23-7d8b-4910-b59c-c8362fce0e76",
   "metadata": {},
   "source": [
    "### 调用摄像头获取每帧(模板)"
   ]
  },
  {
   "cell_type": "code",
   "execution_count": 4,
   "id": "6fccb83c-55fd-4317-8120-5b98cf04ac64",
   "metadata": {
    "ExecuteTime": {
     "end_time": "2022-05-06T15:38:07.968443Z",
     "start_time": "2022-05-06T15:37:49.517354Z"
    },
    "execution": {
     "iopub.execute_input": "2022-05-06T14:15:34.876671Z",
     "iopub.status.busy": "2022-05-06T14:15:34.876671Z",
     "iopub.status.idle": "2022-05-06T14:15:42.498232Z",
     "shell.execute_reply": "2022-05-06T14:15:42.497230Z",
     "shell.execute_reply.started": "2022-05-06T14:15:34.876671Z"
    }
   },
   "outputs": [],
   "source": [
    "#调用摄像头逐帧实时处理模板\n",
    "#不需修改任何代码，只需修改process_frame函数即可\n",
    "#导入opencv-python\n",
    "import cv2\n",
    "import time\n",
    "#获取摄像头，传入0表示获取系统默认摄像头\n",
    "cap = cv2.VideoCapture(0)\n",
    "#打开cap \n",
    "cap.open(0)\n",
    "#无限循环，直到break被触发\n",
    "while cap.isOpened():\n",
    "    #获取画面\n",
    "    success, frame = cap.read( )\n",
    "    if not success:\n",
    "        print( 'Error' )\n",
    "        break\n",
    "        \n",
    "    ## !!!处理帧函数\n",
    "    frame = process_frame(frame)\n",
    "    #展示处理后的三通道图像\n",
    "    cv2.imshow( \"my_window\",frame )\n",
    "    if cv2.waitKey(1) in [ord('q'),27]: #按键盘上的q或esc退出(在英文输入法下)\n",
    "        break\n",
    "#关闭摄像头\n",
    "cap.release()\n",
    "#关闭图像窗口\n",
    "cv2.destroyAllWindows()"
   ]
  },
  {
   "cell_type": "code",
   "execution_count": null,
   "id": "8d2cde94-df5a-4c42-9760-36b5ca371d9a",
   "metadata": {},
   "outputs": [],
   "source": []
  }
 ],
 "metadata": {
  "kernelspec": {
   "display_name": "Python 3",
   "language": "python",
   "name": "python3"
  },
  "language_info": {
   "codemirror_mode": {
    "name": "ipython",
    "version": 3
   },
   "file_extension": ".py",
   "mimetype": "text/x-python",
   "name": "python",
   "nbconvert_exporter": "python",
   "pygments_lexer": "ipython3",
   "version": "3.8.12"
  },
  "widgets": {
   "application/vnd.jupyter.widget-state+json": {
    "state": {},
    "version_major": 2,
    "version_minor": 0
   }
  }
 },
 "nbformat": 4,
 "nbformat_minor": 5
}
