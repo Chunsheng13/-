{
 "cells": [
  {
   "cell_type": "code",
   "execution_count": 1,
   "id": "2a8d6759-01bc-48ee-9284-29dde5168315",
   "metadata": {
    "execution": {
     "iopub.execute_input": "2022-05-06T08:46:12.339289Z",
     "iopub.status.busy": "2022-05-06T08:46:12.338289Z",
     "iopub.status.idle": "2022-05-06T08:46:13.014804Z",
     "shell.execute_reply": "2022-05-06T08:46:13.013967Z",
     "shell.execute_reply.started": "2022-05-06T08:46:12.339289Z"
    }
   },
   "outputs": [],
   "source": [
    "# opencv-python\n",
    "import cv2\n",
    "# mediapipe人工智能工具包\n",
    "import mediapipe as mp\n",
    "#进度条库\n",
    "from tqdm import tqdm\n",
    "#时间库\n",
    "import time\n",
    "#导入python绘图matplotlib\n",
    "import matplotlib.pyplot as plt\n",
    "#使用ipython的魔法方法，将绘制出的图像直接嵌入在notebook单元格中\n",
    "%matplotlib inline\n",
    "import numpy as np\n",
    "\n",
    "#定义可视化图像函数\n",
    "def look_img(img):\n",
    "    #\" ' opencv读入图像格式为BGR, matplotlib可视化格式为RGB,因此需将BGR转RGB''\n",
    "    img_RGB = cv2.cvtColor(img, cv2.COLOR_BGR2RGB)\n",
    "    plt.imshow(img_RGB)\n",
    "    plt.show()"
   ]
  },
  {
   "cell_type": "markdown",
   "id": "7fc9169b-dc49-4a3d-bfa1-2f39a3b5dd2f",
   "metadata": {},
   "source": [
    "### 导入模型"
   ]
  },
  {
   "cell_type": "code",
   "execution_count": 2,
   "id": "7b209d9e-b7c5-41dc-9158-4e7d40a39949",
   "metadata": {
    "execution": {
     "iopub.execute_input": "2022-05-06T08:46:13.015806Z",
     "iopub.status.busy": "2022-05-06T08:46:13.015806Z",
     "iopub.status.idle": "2022-05-06T08:46:13.045805Z",
     "shell.execute_reply": "2022-05-06T08:46:13.044807Z",
     "shell.execute_reply.started": "2022-05-06T08:46:13.015806Z"
    }
   },
   "outputs": [],
   "source": [
    "#导入solution\n",
    "mp_pose = mp.solutions.pose\n",
    "# #导入绘图函数\n",
    "mp_drawing = mp.solutions.drawing_utils\n",
    "\n",
    "#导入模型\n",
    "pose = mp_pose.Pose (static_image_mode=True,\n",
    "                                #是静态图片还是连续视频帧\n",
    "                                model_complexity=1,\n",
    "                                #选择人体姿态关键点检测模型，0性能差但快，2性能好但慢，1介于两者之间\n",
    "                                smooth_landmarks=True,\n",
    "                                #是否平滑关键点\n",
    "                                enable_segmentation=True,\n",
    "                                #是否人体抠图\n",
    "                                min_detection_confidence=0.5, #置信度阈值\n",
    "                                min_tracking_confidence=0.5) # 追踪阈值"
   ]
  },
  {
   "cell_type": "markdown",
   "id": "73f239c1-d20a-4f28-84db-0d2002ddca03",
   "metadata": {},
   "source": [
    "### 读入图像，输入模型,获取预测结果"
   ]
  },
  {
   "cell_type": "code",
   "execution_count": 3,
   "id": "7e4122ee-4df8-4a33-8222-98ab091f630e",
   "metadata": {
    "execution": {
     "iopub.execute_input": "2022-05-06T08:46:13.046806Z",
     "iopub.status.busy": "2022-05-06T08:46:13.046806Z",
     "iopub.status.idle": "2022-05-06T08:46:13.266258Z",
     "shell.execute_reply": "2022-05-06T08:46:13.265236Z",
     "shell.execute_reply.started": "2022-05-06T08:46:13.046806Z"
    }
   },
   "outputs": [],
   "source": [
    "#从图片文件读入图像，opencv读入为BGR格式\n",
    "img = cv2.imread('C:/Users/111/Pictures/Camera Roll/p2212365691.jpg')\n",
    "# look_img(img)\n",
    "\n",
    "# BGR转RGB\n",
    "img_RGB = cv2.cvtColor(img, cv2.COLOR_BGR2RGB )\n",
    "\n",
    "#将RGB图像输入模型,获取预测结果\n",
    "results =pose.process(img_RGB)"
   ]
  },
  {
   "cell_type": "code",
   "execution_count": 4,
   "id": "9f6a4cde-0395-49c7-bfd2-fb5c4f073fb0",
   "metadata": {
    "execution": {
     "iopub.execute_input": "2022-05-06T08:46:13.266258Z",
     "iopub.status.busy": "2022-05-06T08:46:13.266258Z",
     "iopub.status.idle": "2022-05-06T08:46:13.281270Z",
     "shell.execute_reply": "2022-05-06T08:46:13.281270Z",
     "shell.execute_reply.started": "2022-05-06T08:46:13.266258Z"
    }
   },
   "outputs": [
    {
     "data": {
      "text/plain": [
       "mediapipe.python.solution_base.SolutionOutputs"
      ]
     },
     "execution_count": 4,
     "metadata": {},
     "output_type": "execute_result"
    }
   ],
   "source": [
    "results"
   ]
  },
  {
   "cell_type": "markdown",
   "id": "906f4f26-af8c-4205-b216-4cd3f8e9debe",
   "metadata": {},
   "source": [
    "### 人体抠图结果"
   ]
  },
  {
   "cell_type": "code",
   "execution_count": 5,
   "id": "8ed39a1a-6cfb-42b8-a54e-e57b49da6f01",
   "metadata": {
    "execution": {
     "iopub.execute_input": "2022-05-06T08:46:13.283270Z",
     "iopub.status.busy": "2022-05-06T08:46:13.283270Z",
     "iopub.status.idle": "2022-05-06T08:46:13.298275Z",
     "shell.execute_reply": "2022-05-06T08:46:13.297275Z",
     "shell.execute_reply.started": "2022-05-06T08:46:13.283270Z"
    },
    "tags": []
   },
   "outputs": [],
   "source": [
    "mask = results.segmentation_mask"
   ]
  },
  {
   "cell_type": "code",
   "execution_count": 6,
   "id": "8af24540-cf5e-4449-81ba-f11b880fe216",
   "metadata": {
    "execution": {
     "iopub.execute_input": "2022-05-06T08:46:13.302274Z",
     "iopub.status.busy": "2022-05-06T08:46:13.301273Z",
     "iopub.status.idle": "2022-05-06T08:46:13.313270Z",
     "shell.execute_reply": "2022-05-06T08:46:13.313270Z",
     "shell.execute_reply.started": "2022-05-06T08:46:13.302274Z"
    }
   },
   "outputs": [
    {
     "data": {
      "text/plain": [
       "(1417, 1080)"
      ]
     },
     "execution_count": 6,
     "metadata": {},
     "output_type": "execute_result"
    }
   ],
   "source": [
    "mask.shape  # 单通道"
   ]
  },
  {
   "cell_type": "code",
   "execution_count": 7,
   "id": "8faaaf33-0061-42f1-ad34-a3689b9ace18",
   "metadata": {
    "execution": {
     "iopub.execute_input": "2022-05-06T08:46:13.315271Z",
     "iopub.status.busy": "2022-05-06T08:46:13.315271Z",
     "iopub.status.idle": "2022-05-06T08:46:13.329269Z",
     "shell.execute_reply": "2022-05-06T08:46:13.329269Z",
     "shell.execute_reply.started": "2022-05-06T08:46:13.315271Z"
    }
   },
   "outputs": [
    {
     "data": {
      "text/plain": [
       "(1417, 1080, 3)"
      ]
     },
     "execution_count": 7,
     "metadata": {},
     "output_type": "execute_result"
    }
   ],
   "source": [
    "img.shape"
   ]
  },
  {
   "cell_type": "code",
   "execution_count": 8,
   "id": "f14f6c90-ee46-4c4b-b2f7-603b555a5e87",
   "metadata": {
    "execution": {
     "iopub.execute_input": "2022-05-06T08:46:13.330270Z",
     "iopub.status.busy": "2022-05-06T08:46:13.330270Z",
     "iopub.status.idle": "2022-05-06T08:46:13.346270Z",
     "shell.execute_reply": "2022-05-06T08:46:13.345269Z",
     "shell.execute_reply.started": "2022-05-06T08:46:13.330270Z"
    }
   },
   "outputs": [
    {
     "data": {
      "text/plain": [
       "array([[2.4641309e-08, 2.4636703e-08, 2.4632095e-08, ..., 2.6335449e-08,\n",
       "        2.6314400e-08, 2.6282828e-08],\n",
       "       [2.4580034e-08, 2.4595604e-08, 2.4590749e-08, ..., 2.6265443e-08,\n",
       "        2.6245294e-08, 2.6215075e-08],\n",
       "       [2.4539183e-08, 2.4533954e-08, 2.4526109e-08, ..., 2.6160428e-08,\n",
       "        2.6132236e-08, 2.6113440e-08],\n",
       "       ...,\n",
       "       [3.9973507e-08, 4.0272631e-08, 4.0472045e-08, ..., 3.1599374e-08,\n",
       "        3.1378946e-08, 3.1048305e-08],\n",
       "       [4.0129866e-08, 4.0319406e-08, 4.0527830e-08, ..., 3.1584072e-08,\n",
       "        3.1367374e-08, 3.1034673e-08],\n",
       "       [4.0167635e-08, 4.0389573e-08, 4.0722476e-08, ..., 3.1573880e-08,\n",
       "        3.1350019e-08, 3.1014228e-08]], dtype=float32)"
      ]
     },
     "execution_count": 8,
     "metadata": {},
     "output_type": "execute_result"
    }
   ],
   "source": [
    "mask  # 每个像素对应人体的概率"
   ]
  },
  {
   "cell_type": "code",
   "execution_count": 9,
   "id": "dcb1d6ca-aab7-48b7-8f87-f2b05a3a0ede",
   "metadata": {
    "execution": {
     "iopub.execute_input": "2022-05-06T08:46:13.347273Z",
     "iopub.status.busy": "2022-05-06T08:46:13.347273Z",
     "iopub.status.idle": "2022-05-06T08:46:13.361270Z",
     "shell.execute_reply": "2022-05-06T08:46:13.360269Z",
     "shell.execute_reply.started": "2022-05-06T08:46:13.347273Z"
    }
   },
   "outputs": [],
   "source": [
    "mask=mask>0.5"
   ]
  },
  {
   "cell_type": "code",
   "execution_count": 10,
   "id": "d32d4239-337f-4882-9e41-d6ffd92b45b8",
   "metadata": {
    "execution": {
     "iopub.execute_input": "2022-05-06T08:46:13.362270Z",
     "iopub.status.busy": "2022-05-06T08:46:13.361270Z",
     "iopub.status.idle": "2022-05-06T08:46:13.584273Z",
     "shell.execute_reply": "2022-05-06T08:46:13.583302Z",
     "shell.execute_reply.started": "2022-05-06T08:46:13.362270Z"
    }
   },
   "outputs": [
    {
     "data": {
      "image/png": "[encoded data removed]",
      "text/plain": [
       "<Figure size 432x288 with 1 Axes>"
      ]
     },
     "metadata": {
      "needs_background": "light"
     },
     "output_type": "display_data"
    }
   ],
   "source": [
    "plt.imshow(mask)\n",
    "plt.show()"
   ]
  },
  {
   "cell_type": "code",
   "execution_count": 11,
   "id": "16346d75-e656-41c3-bd7f-6366699fbf0a",
   "metadata": {
    "execution": {
     "iopub.execute_input": "2022-05-06T08:46:13.585273Z",
     "iopub.status.busy": "2022-05-06T08:46:13.584273Z",
     "iopub.status.idle": "2022-05-06T08:46:13.615451Z",
     "shell.execute_reply": "2022-05-06T08:46:13.615451Z",
     "shell.execute_reply.started": "2022-05-06T08:46:13.585273Z"
    },
    "tags": []
   },
   "outputs": [],
   "source": [
    "#单通道转三通道\n",
    "mask_3 = np.stack( (mask, mask,mask), axis=-1)\n",
    "MASK_COLOR = [0,200,0]\n",
    "fg_image=np.zeros (img.shape, dtype=np.uint8)\n",
    "fg_image[:] = MASK_COLOR\n",
    "\n",
    "#获得前景人像\n",
    "FG_img = np.where(mask_3, img, fg_image)\n",
    "#获得抠掉前景人像的背景\n",
    "BG_img = np.where(~mask_3, img, fg_image)"
   ]
  },
  {
   "cell_type": "code",
   "execution_count": 12,
   "id": "5bee61ce-6517-4d4a-808b-636edb197887",
   "metadata": {
    "execution": {
     "iopub.execute_input": "2022-05-06T08:46:13.616460Z",
     "iopub.status.busy": "2022-05-06T08:46:13.616460Z",
     "iopub.status.idle": "2022-05-06T08:46:13.887653Z",
     "shell.execute_reply": "2022-05-06T08:46:13.887048Z",
     "shell.execute_reply.started": "2022-05-06T08:46:13.616460Z"
    },
    "tags": []
   },
   "outputs": [
    {
     "data": {
      "image/png": "[encoded data removed]",
      "text/plain": [
       "<Figure size 432x288 with 1 Axes>"
      ]
     },
     "metadata": {
      "needs_background": "light"
     },
     "output_type": "display_data"
    }
   ],
   "source": [
    "look_img(FG_img)  # 前景"
   ]
  },
  {
   "cell_type": "code",
   "execution_count": 13,
   "id": "70431010-961f-44a8-9fe0-fb619acc5b86",
   "metadata": {
    "execution": {
     "iopub.execute_input": "2022-05-06T08:46:13.888664Z",
     "iopub.status.busy": "2022-05-06T08:46:13.888664Z",
     "iopub.status.idle": "2022-05-06T08:46:14.125665Z",
     "shell.execute_reply": "2022-05-06T08:46:14.124708Z",
     "shell.execute_reply.started": "2022-05-06T08:46:13.888664Z"
    }
   },
   "outputs": [
    {
     "data": {
      "image/png": "[encoded data removed]",
      "text/plain": [
       "<Figure size 432x288 with 1 Axes>"
      ]
     },
     "metadata": {
      "needs_background": "light"
     },
     "output_type": "display_data"
    }
   ],
   "source": [
    "look_img(BG_img)  # 背景"
   ]
  },
  {
   "cell_type": "markdown",
   "id": "1325373b-f236-449d-a87f-7a4a2544dd3b",
   "metadata": {},
   "source": [
    "### 所有关键点检测结果"
   ]
  },
  {
   "cell_type": "code",
   "execution_count": 14,
   "id": "323ce61c-5e18-4f3e-b657-11f6167bdb4b",
   "metadata": {
    "execution": {
     "iopub.execute_input": "2022-05-06T08:46:14.126666Z",
     "iopub.status.busy": "2022-05-06T08:46:14.125665Z",
     "iopub.status.idle": "2022-05-06T08:46:14.139702Z",
     "shell.execute_reply": "2022-05-06T08:46:14.139702Z",
     "shell.execute_reply.started": "2022-05-06T08:46:14.126666Z"
    }
   },
   "outputs": [
    {
     "data": {
      "text/plain": [
       "landmark {\n",
       "  x: 0.48440054059028625\n",
       "  y: 0.2796918749809265\n",
       "  z: -2.1130709648132324\n",
       "  visibility: 0.9996746778488159\n",
       "}\n",
       "landmark {\n",
       "  x: 0.5243368744850159\n",
       "  y: 0.23775780200958252\n",
       "  z: -2.028658628463745\n",
       "  visibility: 0.9991589784622192\n",
       "}\n",
       "landmark {\n",
       "  x: 0.5439596772193909\n",
       "  y: 0.2377414107322693\n",
       "  z: -2.02903413772583\n",
       "  visibility: 0.999140739440918\n",
       "}\n",
       "landmark {\n",
       "  x: 0.5633163452148438\n",
       "  y: 0.23764395713806152\n",
       "  z: -2.028709650039673\n",
       "  visibility: 0.9989145994186401\n",
       "}\n",
       "landmark {\n",
       "  x: 0.4466286599636078\n",
       "  y: 0.23914039134979248\n",
       "  z: -2.030575752258301\n",
       "  visibility: 0.999489426612854\n",
       "}\n",
       "landmark {\n",
       "  x: 0.4218384325504303\n",
       "  y: 0.24020236730575562\n",
       "  z: -2.0311477184295654\n",
       "  visibility: 0.999573290348053\n",
       "}\n",
       "landmark {\n",
       "  x: 0.3999076187610626\n",
       "  y: 0.2421870231628418\n",
       "  z: -2.0322089195251465\n",
       "  visibility: 0.9995793700218201\n",
       "}\n",
       "landmark {\n",
       "  x: 0.5924099087715149\n",
       "  y: 0.2602373957633972\n",
       "  z: -1.4348562955856323\n",
       "  visibility: 0.9989827275276184\n",
       "}\n",
       "landmark {\n",
       "  x: 0.38098686933517456\n",
       "  y: 0.26646167039871216\n",
       "  z: -1.4188395738601685\n",
       "  visibility: 0.9995749592781067\n",
       "}\n",
       "landmark {\n",
       "  x: 0.5235114097595215\n",
       "  y: 0.32599377632141113\n",
       "  z: -1.8814696073532104\n",
       "  visibility: 0.9996399879455566\n",
       "}\n",
       "landmark {\n",
       "  x: 0.43801355361938477\n",
       "  y: 0.32577913999557495\n",
       "  z: -1.8806695938110352\n",
       "  visibility: 0.9996737241744995\n",
       "}\n",
       "landmark {\n",
       "  x: 0.7440425157546997\n",
       "  y: 0.4935128390789032\n",
       "  z: -1.0091136693954468\n",
       "  visibility: 0.9976025223731995\n",
       "}\n",
       "landmark {\n",
       "  x: 0.2500454783439636\n",
       "  y: 0.510539174079895\n",
       "  z: -1.0129302740097046\n",
       "  visibility: 0.9992702603340149\n",
       "}\n",
       "landmark {\n",
       "  x: 0.7457594871520996\n",
       "  y: 0.8869649767875671\n",
       "  z: -1.039640188217163\n",
       "  visibility: 0.961087167263031\n",
       "}\n",
       "landmark {\n",
       "  x: 0.21583670377731323\n",
       "  y: 0.8741965889930725\n",
       "  z: -1.1352097988128662\n",
       "  visibility: 0.9933211207389832\n",
       "}\n",
       "landmark {\n",
       "  x: 0.3277665078639984\n",
       "  y: 0.834300696849823\n",
       "  z: -1.3550902605056763\n",
       "  visibility: 0.8029952049255371\n",
       "}\n",
       "landmark {\n",
       "  x: 0.5962837338447571\n",
       "  y: 0.8462598323822021\n",
       "  z: -1.5364561080932617\n",
       "  visibility: 0.8554982542991638\n",
       "}\n",
       "landmark {\n",
       "  x: 0.23787926137447357\n",
       "  y: 0.8594640493392944\n",
       "  z: -1.4623515605926514\n",
       "  visibility: 0.5107290744781494\n",
       "}\n",
       "landmark {\n",
       "  x: 0.6998924016952515\n",
       "  y: 0.8489071130752563\n",
       "  z: -1.6762522459030151\n",
       "  visibility: 0.607615053653717\n",
       "}\n",
       "landmark {\n",
       "  x: 0.2381165623664856\n",
       "  y: 0.8193057179450989\n",
       "  z: -1.413171410560608\n",
       "  visibility: 0.5041437149047852\n",
       "}\n",
       "landmark {\n",
       "  x: 0.7015335559844971\n",
       "  y: 0.7860797643661499\n",
       "  z: -1.6354669332504272\n",
       "  visibility: 0.5964121222496033\n",
       "}\n",
       "landmark {\n",
       "  x: 0.26404279470443726\n",
       "  y: 0.8116752505302429\n",
       "  z: -1.33278226852417\n",
       "  visibility: 0.4925121068954468\n",
       "}\n",
       "landmark {\n",
       "  x: 0.662572979927063\n",
       "  y: 0.7881607413291931\n",
       "  z: -1.5200461149215698\n",
       "  visibility: 0.5524711608886719\n",
       "}\n",
       "landmark {\n",
       "  x: 0.6152543425559998\n",
       "  y: 1.0339407920837402\n",
       "  z: -0.07227542251348495\n",
       "  visibility: 0.49459558725357056\n",
       "}\n",
       "landmark {\n",
       "  x: 0.3264666795730591\n",
       "  y: 1.027896761894226\n",
       "  z: 0.07519754022359848\n",
       "  visibility: 0.5836158394813538\n",
       "}\n",
       "landmark {\n",
       "  x: 0.6321956515312195\n",
       "  y: 1.4403297901153564\n",
       "  z: -0.058545347303152084\n",
       "  visibility: 0.047628358006477356\n",
       "}\n",
       "landmark {\n",
       "  x: 0.33121246099472046\n",
       "  y: 1.4452602863311768\n",
       "  z: 0.22044207155704498\n",
       "  visibility: 0.06715063005685806\n",
       "}\n",
       "landmark {\n",
       "  x: 0.6097824573516846\n",
       "  y: 1.800419569015503\n",
       "  z: 0.7528566122055054\n",
       "  visibility: 0.002996554598212242\n",
       "}\n",
       "landmark {\n",
       "  x: 0.31491678953170776\n",
       "  y: 1.8041778802871704\n",
       "  z: 0.870986819267273\n",
       "  visibility: 0.012060368433594704\n",
       "}\n",
       "landmark {\n",
       "  x: 0.6199034452438354\n",
       "  y: 1.8591294288635254\n",
       "  z: 0.7910054922103882\n",
       "  visibility: 0.0019809911027550697\n",
       "}\n",
       "landmark {\n",
       "  x: 0.3091820776462555\n",
       "  y: 1.8620562553405762\n",
       "  z: 0.9141697287559509\n",
       "  visibility: 0.014728198759257793\n",
       "}\n",
       "landmark {\n",
       "  x: 0.5582191348075867\n",
       "  y: 1.9218978881835938\n",
       "  z: 0.07755722850561142\n",
       "  visibility: 0.0032216052059084177\n",
       "}\n",
       "landmark {\n",
       "  x: 0.32937091588974\n",
       "  y: 1.9313968420028687\n",
       "  z: 0.19540858268737793\n",
       "  visibility: 0.03520796075463295\n",
       "}"
      ]
     },
     "execution_count": 14,
     "metadata": {},
     "output_type": "execute_result"
    }
   ],
   "source": [
    "results.pose_landmarks  # 33个关键点坐标"
   ]
  },
  {
   "cell_type": "code",
   "execution_count": 15,
   "id": "e6da10d0-16bb-4464-8a42-100ac7b36ab3",
   "metadata": {
    "execution": {
     "iopub.execute_input": "2022-05-06T08:46:14.140668Z",
     "iopub.status.busy": "2022-05-06T08:46:14.140668Z",
     "iopub.status.idle": "2022-05-06T08:46:14.154698Z",
     "shell.execute_reply": "2022-05-06T08:46:14.154698Z",
     "shell.execute_reply.started": "2022-05-06T08:46:14.140668Z"
    }
   },
   "outputs": [
    {
     "data": {
      "text/plain": [
       "frozenset({(0, 1),\n",
       "           (0, 4),\n",
       "           (1, 2),\n",
       "           (2, 3),\n",
       "           (3, 7),\n",
       "           (4, 5),\n",
       "           (5, 6),\n",
       "           (6, 8),\n",
       "           (9, 10),\n",
       "           (11, 12),\n",
       "           (11, 13),\n",
       "           (11, 23),\n",
       "           (12, 14),\n",
       "           (12, 24),\n",
       "           (13, 15),\n",
       "           (14, 16),\n",
       "           (15, 17),\n",
       "           (15, 19),\n",
       "           (15, 21),\n",
       "           (16, 18),\n",
       "           (16, 20),\n",
       "           (16, 22),\n",
       "           (17, 19),\n",
       "           (18, 20),\n",
       "           (23, 24),\n",
       "           (23, 25),\n",
       "           (24, 26),\n",
       "           (25, 27),\n",
       "           (26, 28),\n",
       "           (27, 29),\n",
       "           (27, 31),\n",
       "           (28, 30),\n",
       "           (28, 32),\n",
       "           (29, 31),\n",
       "           (30, 32)})"
      ]
     },
     "execution_count": 15,
     "metadata": {},
     "output_type": "execute_result"
    }
   ],
   "source": [
    "mp_pose.POSE_CONNECTIONS  # 关键点之间如何连接的"
   ]
  },
  {
   "cell_type": "code",
   "execution_count": 16,
   "id": "64966ded-ff6e-4e0e-bdc0-093edc7998ba",
   "metadata": {
    "execution": {
     "iopub.execute_input": "2022-05-06T08:46:14.156699Z",
     "iopub.status.busy": "2022-05-06T08:46:14.155665Z",
     "iopub.status.idle": "2022-05-06T08:46:14.169692Z",
     "shell.execute_reply": "2022-05-06T08:46:14.169692Z",
     "shell.execute_reply.started": "2022-05-06T08:46:14.156699Z"
    }
   },
   "outputs": [
    {
     "data": {
      "text/plain": [
       "x: 0.7457594871520996\n",
       "y: 0.8869649767875671\n",
       "z: -1.039640188217163\n",
       "visibility: 0.961087167263031"
      ]
     },
     "execution_count": 16,
     "metadata": {},
     "output_type": "execute_result"
    }
   ],
   "source": [
    "#左胳膊肘关键点的归一化坐标\n",
    "results.pose_landmarks.landmark[mp_pose.PoseLandmark.LEFT_ELBOW]"
   ]
  },
  {
   "cell_type": "code",
   "execution_count": 17,
   "id": "9c87b03a-6585-41f9-ae50-a2620fc59274",
   "metadata": {
    "execution": {
     "iopub.execute_input": "2022-05-06T08:46:14.171665Z",
     "iopub.status.busy": "2022-05-06T08:46:14.171665Z",
     "iopub.status.idle": "2022-05-06T08:46:14.185664Z",
     "shell.execute_reply": "2022-05-06T08:46:14.184692Z",
     "shell.execute_reply.started": "2022-05-06T08:46:14.171665Z"
    }
   },
   "outputs": [
    {
     "data": {
      "text/plain": [
       "x: 0.7457594871520996\n",
       "y: 0.8869649767875671\n",
       "z: -1.039640188217163\n",
       "visibility: 0.961087167263031"
      ]
     },
     "execution_count": 17,
     "metadata": {},
     "output_type": "execute_result"
    }
   ],
   "source": [
    "#左胳膊时关键点的归一化坐标\n",
    "results.pose_landmarks.landmark[13]\n",
    "# Z 坐标靠近屏幕为负，远离屏幕为正"
   ]
  },
  {
   "cell_type": "code",
   "execution_count": 18,
   "id": "31c13700-c83f-4365-a1fa-8c053ee4cbf4",
   "metadata": {
    "execution": {
     "iopub.execute_input": "2022-05-06T08:46:14.186666Z",
     "iopub.status.busy": "2022-05-06T08:46:14.186666Z",
     "iopub.status.idle": "2022-05-06T08:46:14.201666Z",
     "shell.execute_reply": "2022-05-06T08:46:14.200707Z",
     "shell.execute_reply.started": "2022-05-06T08:46:14.186666Z"
    },
    "tags": []
   },
   "outputs": [
    {
     "data": {
      "text/plain": [
       "0.7457594871520996"
      ]
     },
     "execution_count": 18,
     "metadata": {},
     "output_type": "execute_result"
    }
   ],
   "source": [
    "#左胳膊时关键点的归一化坐标\n",
    "results.pose_landmarks.landmark[13].x"
   ]
  },
  {
   "cell_type": "markdown",
   "id": "73d7a747-f1c6-43eb-9c48-3402dae1e8c1",
   "metadata": {},
   "source": [
    "### 解析指定关键点的像素坐标"
   ]
  },
  {
   "cell_type": "code",
   "execution_count": 19,
   "id": "ad35b38e-0ea1-49d9-b66a-0a5c5f8e7cd5",
   "metadata": {
    "execution": {
     "iopub.execute_input": "2022-05-06T08:46:14.201666Z",
     "iopub.status.busy": "2022-05-06T08:46:14.201666Z",
     "iopub.status.idle": "2022-05-06T08:46:14.217667Z",
     "shell.execute_reply": "2022-05-06T08:46:14.216716Z",
     "shell.execute_reply.started": "2022-05-06T08:46:14.201666Z"
    }
   },
   "outputs": [
    {
     "data": {
      "text/plain": [
       "(1417, 1080, 3)"
      ]
     },
     "execution_count": 19,
     "metadata": {},
     "output_type": "execute_result"
    }
   ],
   "source": [
    "# 上面是归一化后与原照片的比例坐标\n",
    "# 要还原为真实坐标需要乘照片的长宽\n",
    "img.shape  "
   ]
  },
  {
   "cell_type": "code",
   "execution_count": 20,
   "id": "5fcdd0bb-13fe-43fb-b51a-2cd29379a98c",
   "metadata": {
    "execution": {
     "iopub.execute_input": "2022-05-06T08:46:14.218668Z",
     "iopub.status.busy": "2022-05-06T08:46:14.218668Z",
     "iopub.status.idle": "2022-05-06T08:46:14.232665Z",
     "shell.execute_reply": "2022-05-06T08:46:14.232665Z",
     "shell.execute_reply.started": "2022-05-06T08:46:14.218668Z"
    }
   },
   "outputs": [],
   "source": [
    "h=img.shape[0]\n",
    "w=img.shape[1]"
   ]
  },
  {
   "cell_type": "code",
   "execution_count": 21,
   "id": "afbb9439-8fe7-4e22-a7f7-94818a7f47ae",
   "metadata": {
    "execution": {
     "iopub.execute_input": "2022-05-06T08:46:14.234671Z",
     "iopub.status.busy": "2022-05-06T08:46:14.234671Z",
     "iopub.status.idle": "2022-05-06T08:46:14.248671Z",
     "shell.execute_reply": "2022-05-06T08:46:14.247668Z",
     "shell.execute_reply.started": "2022-05-06T08:46:14.234671Z"
    },
    "tags": []
   },
   "outputs": [
    {
     "data": {
      "text/plain": [
       "805.4202461242676"
      ]
     },
     "execution_count": 21,
     "metadata": {},
     "output_type": "execute_result"
    }
   ],
   "source": [
    "#左胳膊肘关键点像素横坐标\n",
    "results.pose_landmarks.landmark[mp_pose.PoseLandmark.LEFT_ELBOW].x*w"
   ]
  },
  {
   "cell_type": "code",
   "execution_count": 22,
   "id": "48cde3ab-8c60-41fd-a6ee-03f5a61002d7",
   "metadata": {
    "execution": {
     "iopub.execute_input": "2022-05-06T08:46:14.249667Z",
     "iopub.status.busy": "2022-05-06T08:46:14.249667Z",
     "iopub.status.idle": "2022-05-06T08:46:14.263664Z",
     "shell.execute_reply": "2022-05-06T08:46:14.263664Z",
     "shell.execute_reply.started": "2022-05-06T08:46:14.249667Z"
    },
    "tags": []
   },
   "outputs": [
    {
     "data": {
      "text/plain": [
       "1256.8293721079826"
      ]
     },
     "execution_count": 22,
     "metadata": {},
     "output_type": "execute_result"
    }
   ],
   "source": [
    "# 左胳膊肘关键点像素纵坐标\n",
    "results.pose_landmarks.landmark[mp_pose.PoseLandmark.LEFT_ELBOW].y*h"
   ]
  },
  {
   "cell_type": "markdown",
   "id": "01145b16-1641-43e3-b410-3bf4bc982771",
   "metadata": {},
   "source": [
    "### 解析指定米键点的真实物理(米)坐标"
   ]
  },
  {
   "cell_type": "code",
   "execution_count": 23,
   "id": "600b76f5-6d88-453d-9de8-46ee33c691ac",
   "metadata": {
    "execution": {
     "iopub.execute_input": "2022-05-06T08:46:14.265668Z",
     "iopub.status.busy": "2022-05-06T08:46:14.265668Z",
     "iopub.status.idle": "2022-05-06T08:46:14.280665Z",
     "shell.execute_reply": "2022-05-06T08:46:14.279699Z",
     "shell.execute_reply.started": "2022-05-06T08:46:14.265668Z"
    }
   },
   "outputs": [
    {
     "data": {
      "text/plain": [
       "x: -0.0013185814023017883\n",
       "y: -0.5821840167045593\n",
       "z: -0.3828795254230499\n",
       "visibility: 0.9996746778488159"
      ]
     },
     "execution_count": 23,
     "metadata": {},
     "output_type": "execute_result"
    }
   ],
   "source": [
    "results.pose_world_landmarks.landmark [mp_pose.PoseLandmark.NOSE]"
   ]
  },
  {
   "cell_type": "code",
   "execution_count": 24,
   "id": "d7eac1f2-c75c-407b-96ae-bb1ec399f796",
   "metadata": {
    "execution": {
     "iopub.execute_input": "2022-05-06T08:46:14.282668Z",
     "iopub.status.busy": "2022-05-06T08:46:14.282668Z",
     "iopub.status.idle": "2022-05-06T08:46:14.296668Z",
     "shell.execute_reply": "2022-05-06T08:46:14.295700Z",
     "shell.execute_reply.started": "2022-05-06T08:46:14.282668Z"
    }
   },
   "outputs": [
    {
     "data": {
      "text/plain": [
       "x: 0.10767136514186859\n",
       "y: 0.009809661656618118\n",
       "z: 0.011002673767507076\n",
       "visibility: 0.49459558725357056"
      ]
     },
     "execution_count": 24,
     "metadata": {},
     "output_type": "execute_result"
    }
   ],
   "source": [
    "results.pose_world_landmarks.landmark [23]"
   ]
  },
  {
   "cell_type": "markdown",
   "id": "89fc10be-df49-4cc2-bae4-3109303a6db4",
   "metadata": {},
   "source": [
    "#### 真实物理坐标的原点位于左右髋关节连线的中点(肚脐附近), 详见论文。"
   ]
  },
  {
   "cell_type": "markdown",
   "id": "df081510-f5bb-4369-a99e-16bad7783a03",
   "metadata": {},
   "source": [
    "## 交互式三维可视化"
   ]
  },
  {
   "cell_type": "code",
   "execution_count": 25,
   "id": "47fee2e4-4d55-4334-946f-01e17dd6935e",
   "metadata": {
    "execution": {
     "iopub.execute_input": "2022-05-06T08:46:14.297668Z",
     "iopub.status.busy": "2022-05-06T08:46:14.297668Z",
     "iopub.status.idle": "2022-05-06T08:46:14.312665Z",
     "shell.execute_reply": "2022-05-06T08:46:14.311705Z",
     "shell.execute_reply.started": "2022-05-06T08:46:14.297668Z"
    }
   },
   "outputs": [],
   "source": [
    "import numpy as np"
   ]
  },
  {
   "cell_type": "code",
   "execution_count": 26,
   "id": "b6b43123-7b79-4bcb-a351-52bb67c38c55",
   "metadata": {
    "execution": {
     "iopub.execute_input": "2022-05-06T08:46:14.313664Z",
     "iopub.status.busy": "2022-05-06T08:46:14.313664Z",
     "iopub.status.idle": "2022-05-06T08:46:14.327690Z",
     "shell.execute_reply": "2022-05-06T08:46:14.327690Z",
     "shell.execute_reply.started": "2022-05-06T08:46:14.313664Z"
    }
   },
   "outputs": [],
   "source": [
    "coords=np.array(results.pose_landmarks.landmark)"
   ]
  },
  {
   "cell_type": "code",
   "execution_count": 27,
   "id": "9c72edd6-1da3-43bf-baa8-7a674de55e66",
   "metadata": {
    "execution": {
     "iopub.execute_input": "2022-05-06T08:46:14.329683Z",
     "iopub.status.busy": "2022-05-06T08:46:14.328665Z",
     "iopub.status.idle": "2022-05-06T08:46:14.343664Z",
     "shell.execute_reply": "2022-05-06T08:46:14.343664Z",
     "shell.execute_reply.started": "2022-05-06T08:46:14.329683Z"
    }
   },
   "outputs": [
    {
     "data": {
      "text/plain": [
       "array([x: 0.48440054059028625\n",
       "       y: 0.2796918749809265\n",
       "       z: -2.1130709648132324\n",
       "       visibility: 0.9996746778488159, x: 0.5243368744850159\n",
       "                                       y: 0.23775780200958252\n",
       "                                       z: -2.028658628463745\n",
       "                                       visibility: 0.9991589784622192,\n",
       "       x: 0.5439596772193909\n",
       "       y: 0.2377414107322693\n",
       "       z: -2.02903413772583\n",
       "       visibility: 0.999140739440918, x: 0.5633163452148438\n",
       "                                      y: 0.23764395713806152\n",
       "                                      z: -2.028709650039673\n",
       "                                      visibility: 0.9989145994186401,\n",
       "       x: 0.4466286599636078\n",
       "       y: 0.23914039134979248\n",
       "       z: -2.030575752258301\n",
       "       visibility: 0.999489426612854, x: 0.4218384325504303\n",
       "                                      y: 0.24020236730575562\n",
       "                                      z: -2.0311477184295654\n",
       "                                      visibility: 0.999573290348053,\n",
       "       x: 0.3999076187610626\n",
       "       y: 0.2421870231628418\n",
       "       z: -2.0322089195251465\n",
       "       visibility: 0.9995793700218201, x: 0.5924099087715149\n",
       "                                       y: 0.2602373957633972\n",
       "                                       z: -1.4348562955856323\n",
       "                                       visibility: 0.9989827275276184,\n",
       "       x: 0.38098686933517456\n",
       "       y: 0.26646167039871216\n",
       "       z: -1.4188395738601685\n",
       "       visibility: 0.9995749592781067, x: 0.5235114097595215\n",
       "                                       y: 0.32599377632141113\n",
       "                                       z: -1.8814696073532104\n",
       "                                       visibility: 0.9996399879455566,\n",
       "       x: 0.43801355361938477\n",
       "       y: 0.32577913999557495\n",
       "       z: -1.8806695938110352\n",
       "       visibility: 0.9996737241744995, x: 0.7440425157546997\n",
       "                                       y: 0.4935128390789032\n",
       "                                       z: -1.0091136693954468\n",
       "                                       visibility: 0.9976025223731995,\n",
       "       x: 0.2500454783439636\n",
       "       y: 0.510539174079895\n",
       "       z: -1.0129302740097046\n",
       "       visibility: 0.9992702603340149, x: 0.7457594871520996\n",
       "                                       y: 0.8869649767875671\n",
       "                                       z: -1.039640188217163\n",
       "                                       visibility: 0.961087167263031,\n",
       "       x: 0.21583670377731323\n",
       "       y: 0.8741965889930725\n",
       "       z: -1.1352097988128662\n",
       "       visibility: 0.9933211207389832, x: 0.3277665078639984\n",
       "                                       y: 0.834300696849823\n",
       "                                       z: -1.3550902605056763\n",
       "                                       visibility: 0.8029952049255371,\n",
       "       x: 0.5962837338447571\n",
       "       y: 0.8462598323822021\n",
       "       z: -1.5364561080932617\n",
       "       visibility: 0.8554982542991638, x: 0.23787926137447357\n",
       "                                       y: 0.8594640493392944\n",
       "                                       z: -1.4623515605926514\n",
       "                                       visibility: 0.5107290744781494,\n",
       "       x: 0.6998924016952515\n",
       "       y: 0.8489071130752563\n",
       "       z: -1.6762522459030151\n",
       "       visibility: 0.607615053653717, x: 0.2381165623664856\n",
       "                                      y: 0.8193057179450989\n",
       "                                      z: -1.413171410560608\n",
       "                                      visibility: 0.5041437149047852,\n",
       "       x: 0.7015335559844971\n",
       "       y: 0.7860797643661499\n",
       "       z: -1.6354669332504272\n",
       "       visibility: 0.5964121222496033, x: 0.26404279470443726\n",
       "                                       y: 0.8116752505302429\n",
       "                                       z: -1.33278226852417\n",
       "                                       visibility: 0.4925121068954468,\n",
       "       x: 0.662572979927063\n",
       "       y: 0.7881607413291931\n",
       "       z: -1.5200461149215698\n",
       "       visibility: 0.5524711608886719, x: 0.6152543425559998\n",
       "                                       y: 1.0339407920837402\n",
       "                                       z: -0.07227542251348495\n",
       "                                       visibility: 0.49459558725357056,\n",
       "       x: 0.3264666795730591\n",
       "       y: 1.027896761894226\n",
       "       z: 0.07519754022359848\n",
       "       visibility: 0.5836158394813538, x: 0.6321956515312195\n",
       "                                       y: 1.4403297901153564\n",
       "                                       z: -0.058545347303152084\n",
       "                                       visibility: 0.047628358006477356,\n",
       "       x: 0.33121246099472046\n",
       "       y: 1.4452602863311768\n",
       "       z: 0.22044207155704498\n",
       "       visibility: 0.06715063005685806, x: 0.6097824573516846\n",
       "                                        y: 1.800419569015503\n",
       "                                        z: 0.7528566122055054\n",
       "                                        visibility: 0.002996554598212242,\n",
       "       x: 0.31491678953170776\n",
       "       y: 1.8041778802871704\n",
       "       z: 0.870986819267273\n",
       "       visibility: 0.012060368433594704,\n",
       "       x: 0.6199034452438354\n",
       "       y: 1.8591294288635254\n",
       "       z: 0.7910054922103882\n",
       "       visibility: 0.0019809911027550697,\n",
       "       x: 0.3091820776462555\n",
       "       y: 1.8620562553405762\n",
       "       z: 0.9141697287559509\n",
       "       visibility: 0.014728198759257793,\n",
       "       x: 0.5582191348075867\n",
       "       y: 1.9218978881835938\n",
       "       z: 0.07755722850561142\n",
       "       visibility: 0.0032216052059084177, x: 0.32937091588974\n",
       "                                          y: 1.9313968420028687\n",
       "                                          z: 0.19540858268737793\n",
       "                                          visibility: 0.03520796075463295],\n",
       "      dtype=object)"
      ]
     },
     "execution_count": 27,
     "metadata": {},
     "output_type": "execute_result"
    }
   ],
   "source": [
    "coords"
   ]
  },
  {
   "cell_type": "code",
   "execution_count": 28,
   "id": "08016dd8-44b3-4bb1-98df-cfbf8e3db0df",
   "metadata": {
    "execution": {
     "iopub.execute_input": "2022-05-06T08:46:14.344665Z",
     "iopub.status.busy": "2022-05-06T08:46:14.344665Z",
     "iopub.status.idle": "2022-05-06T08:46:14.359665Z",
     "shell.execute_reply": "2022-05-06T08:46:14.358691Z",
     "shell.execute_reply.started": "2022-05-06T08:46:14.344665Z"
    }
   },
   "outputs": [
    {
     "data": {
      "text/plain": [
       "33"
      ]
     },
     "execution_count": 28,
     "metadata": {},
     "output_type": "execute_result"
    }
   ],
   "source": [
    "len(coords)"
   ]
  },
  {
   "cell_type": "code",
   "execution_count": 29,
   "id": "ad1ed957-aaab-48d3-9c1b-e393a0588460",
   "metadata": {
    "execution": {
     "iopub.execute_input": "2022-05-06T08:46:14.360676Z",
     "iopub.status.busy": "2022-05-06T08:46:14.360676Z",
     "iopub.status.idle": "2022-05-06T08:46:14.374690Z",
     "shell.execute_reply": "2022-05-06T08:46:14.374690Z",
     "shell.execute_reply.started": "2022-05-06T08:46:14.360676Z"
    }
   },
   "outputs": [
    {
     "data": {
      "text/plain": [
       "0.48440054059028625"
      ]
     },
     "execution_count": 29,
     "metadata": {},
     "output_type": "execute_result"
    }
   ],
   "source": [
    "coords[0].x"
   ]
  },
  {
   "cell_type": "code",
   "execution_count": 47,
   "id": "3c17faad-ca54-491d-aee3-a04aaae947e6",
   "metadata": {
    "execution": {
     "iopub.execute_input": "2022-05-06T09:03:53.938385Z",
     "iopub.status.busy": "2022-05-06T09:03:53.937385Z",
     "iopub.status.idle": "2022-05-06T09:03:53.946384Z",
     "shell.execute_reply": "2022-05-06T09:03:53.945417Z",
     "shell.execute_reply.started": "2022-05-06T09:03:53.937385Z"
    },
    "tags": []
   },
   "outputs": [],
   "source": [
    "# 上面的数据类型需要转为np.array 才能在open3d中使用\n",
    "#在不用耗时循环的条件下，汇总所有点的XYZ坐标\n",
    "def get_x(each):\n",
    "    return each.x\n",
    "def get_y(each):\n",
    "    return each.y\n",
    "def get_z(each):\n",
    "    return each.z\n",
    "\n",
    "#分别获取所有关键点的XTZ坐标\n",
    "points_x = np.array(list(map(get_x, coords)))\n",
    "points_y = np.array(list(map(get_y, coords)))\n",
    "points_z = np.array(list(map(get_z, coords)))\n",
    "\n",
    "# 将三个方向的坐标合并\n",
    "points=np.vstack((points_x,points_y,points_z)).T"
   ]
  },
  {
   "cell_type": "code",
   "execution_count": 48,
   "id": "7600e473-c742-4f1e-8174-1e2a20189c85",
   "metadata": {
    "execution": {
     "iopub.execute_input": "2022-05-06T09:03:54.365393Z",
     "iopub.status.busy": "2022-05-06T09:03:54.365393Z",
     "iopub.status.idle": "2022-05-06T09:03:54.382389Z",
     "shell.execute_reply": "2022-05-06T09:03:54.382389Z",
     "shell.execute_reply.started": "2022-05-06T09:03:54.365393Z"
    },
    "tags": []
   },
   "outputs": [
    {
     "data": {
      "text/plain": [
       "(33, 3)"
      ]
     },
     "execution_count": 48,
     "metadata": {},
     "output_type": "execute_result"
    }
   ],
   "source": [
    "points.shape"
   ]
  },
  {
   "cell_type": "code",
   "execution_count": 49,
   "id": "819d2b20-bfc7-440c-a928-d7fc88696918",
   "metadata": {
    "execution": {
     "iopub.execute_input": "2022-05-06T09:03:54.849080Z",
     "iopub.status.busy": "2022-05-06T09:03:54.849080Z",
     "iopub.status.idle": "2022-05-06T09:03:54.866045Z",
     "shell.execute_reply": "2022-05-06T09:03:54.866045Z",
     "shell.execute_reply.started": "2022-05-06T09:03:54.849080Z"
    },
    "tags": []
   },
   "outputs": [
    {
     "data": {
      "text/plain": [
       "(array([[ 0.48440054,  0.27969187, -2.11307096],\n",
       "        [ 0.52433687,  0.2377578 , -2.02865863],\n",
       "        [ 0.54395968,  0.23774141, -2.02903414],\n",
       "        [ 0.56331635,  0.23764396, -2.02870965],\n",
       "        [ 0.44662866,  0.23914039, -2.03057575],\n",
       "        [ 0.42183843,  0.24020237, -2.03114772],\n",
       "        [ 0.39990762,  0.24218702, -2.03220892],\n",
       "        [ 0.59240991,  0.2602374 , -1.4348563 ],\n",
       "        [ 0.38098687,  0.26646167, -1.41883957],\n",
       "        [ 0.52351141,  0.32599378, -1.88146961],\n",
       "        [ 0.43801355,  0.32577914, -1.88066959],\n",
       "        [ 0.74404252,  0.49351284, -1.00911367],\n",
       "        [ 0.25004548,  0.51053917, -1.01293027],\n",
       "        [ 0.74575949,  0.88696498, -1.03964019],\n",
       "        [ 0.2158367 ,  0.87419659, -1.1352098 ],\n",
       "        [ 0.32776651,  0.8343007 , -1.35509026],\n",
       "        [ 0.59628373,  0.84625983, -1.53645611],\n",
       "        [ 0.23787926,  0.85946405, -1.46235156],\n",
       "        [ 0.6998924 ,  0.84890711, -1.67625225],\n",
       "        [ 0.23811656,  0.81930572, -1.41317141],\n",
       "        [ 0.70153356,  0.78607976, -1.63546693],\n",
       "        [ 0.26404279,  0.81167525, -1.33278227],\n",
       "        [ 0.66257298,  0.78816074, -1.52004611],\n",
       "        [ 0.61525434,  1.03394079, -0.07227542],\n",
       "        [ 0.32646668,  1.02789676,  0.07519754],\n",
       "        [ 0.63219565,  1.44032979, -0.05854535],\n",
       "        [ 0.33121246,  1.44526029,  0.22044207],\n",
       "        [ 0.60978246,  1.80041957,  0.75285661],\n",
       "        [ 0.31491679,  1.80417788,  0.87098682],\n",
       "        [ 0.61990345,  1.85912943,  0.79100549],\n",
       "        [ 0.30918208,  1.86205626,  0.91416973],\n",
       "        [ 0.55821913,  1.92189789,  0.07755723],\n",
       "        [ 0.32937092,  1.93139684,  0.19540858]]),\n",
       " numpy.ndarray)"
      ]
     },
     "execution_count": 49,
     "metadata": {},
     "output_type": "execute_result"
    }
   ],
   "source": [
    "points,type(points)"
   ]
  },
  {
   "cell_type": "code",
   "execution_count": 51,
   "id": "0e63ef4b-2581-4bf3-9b77-6af0c4a2f594",
   "metadata": {
    "execution": {
     "iopub.execute_input": "2022-05-06T12:41:31.387235Z",
     "iopub.status.busy": "2022-05-06T12:41:31.387235Z",
     "iopub.status.idle": "2022-05-06T12:41:35.863419Z",
     "shell.execute_reply": "2022-05-06T12:41:35.862420Z",
     "shell.execute_reply.started": "2022-05-06T12:41:31.387235Z"
    },
    "tags": []
   },
   "outputs": [],
   "source": [
    "import open3d\n",
    "\n",
    "point_cloud =open3d.geometry.PointCloud()\n",
    "\n",
    "point_cloud.points = open3d.utility.Vector3dVector(points)\n",
    "\n",
    "open3d.visualization.draw_geometries([point_cloud])"
   ]
  },
  {
   "cell_type": "code",
   "execution_count": null,
   "id": "d4c3c309-447f-497d-9c36-266056765e32",
   "metadata": {},
   "outputs": [],
   "source": []
  },
  {
   "cell_type": "code",
   "execution_count": null,
   "id": "d3fade82-7a19-4a95-920a-f57a9129c500",
   "metadata": {},
   "outputs": [],
   "source": []
  }
 ],
 "metadata": {
  "kernelspec": {
   "display_name": "Python 3",
   "language": "python",
   "name": "python3"
  },
  "language_info": {
   "codemirror_mode": {
    "name": "ipython",
    "version": 3
   },
   "file_extension": ".py",
   "mimetype": "text/x-python",
   "name": "python",
   "nbconvert_exporter": "python",
   "pygments_lexer": "ipython3",
   "version": "3.8.12"
  },
  "widgets": {
   "application/vnd.jupyter.widget-state+json": {
    "state": {},
    "version_major": 2,
    "version_minor": 0
   }
  }
 },
 "nbformat": 4,
 "nbformat_minor": 5
}
